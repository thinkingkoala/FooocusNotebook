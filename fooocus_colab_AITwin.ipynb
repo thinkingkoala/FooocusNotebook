!pip install pygit2==1.12.2
%cd /content
!git clone https://github.com/lllyasviel/Fooocus.git
%cd /content/Fooocus


from google.colab import drive
drive.mount('/content/drive')

!cp '/content/drive/MyDrive/LoRas/nadia-08-03-v2.safetensors' ./models/loras/nadia-08-03-v2.safetensors

!cp '/content/drive/MyDrive/LoRas/nadia-08-03-v2_emb.safetensors' ./models/embeddings/nadia-08-03-v2_emb.safetensors

!wget -c "https://civitai.com/api/download/models/348913?type=Model&format=SafeTensor&size=full&fp=fp16" -O ./models/checkpoints/JuggernautXLV9.safetensors

!wget -c "https://civitai.com/api/download/models/128461?type=Model&format=SafeTensor" -O ./models/loras/perfecteyes.safetensors

!python entry_with_update.py --share --always-high-vram
